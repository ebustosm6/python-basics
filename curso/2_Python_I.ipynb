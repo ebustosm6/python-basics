{
 "cells": [
  {
   "cell_type": "markdown",
   "metadata": {},
   "source": [
    "# Python nivel I: tipos básicos de datos y sus operaciones\n"
   ]
  },
  {
   "cell_type": "markdown",
   "metadata": {},
   "source": [
    "## Introducción\n",
    "Para empezar, vamos a decir que Python es un lenguaje de propósito general, por lo que sirve para gran tipo de ocasiones.\n",
    "Aunque todavía es pronto para eso, diremos que Python es un lenguaje interpretado y que soporta programación orientad a objetos. Esto significa que podemos definir un objeto, sus propiedades y su comportamiento y utilizarlos, pero esto ya se verá más adelante. \n",
    "\n",
    "De momento vamos con lo básico."
   ]
  },
  {
   "cell_type": "markdown",
   "metadata": {},
   "source": [
    "## La sintaxis\n",
    "\n",
    "Lo primero para escribir en lenguaje Python es saber leerlo y diferenciar los diferentes tipos de cosas. Esto se explicará más adelante, pero vamos a avanzar un poco.\n",
    "\n",
    "Lo primero que podemos leer es una asignación (como se vió en el contenido anterior y las cajas de memoria). Esto significa que estamos asignando un valor a una variable, por ejemmplo:\n",
    "```python\n",
    "x = 16\n",
    "```\n",
    "\n",
    "Esto significa que lo que sea que esté a la derecha del igual se asigna o \"guarda\" en la variable de la izquierda. De esta forma, podemos utilizar las variables para hacer operaciones. Si recordamos que el código se ejecuta de arriba a abajo, podemos ver el siguiente ejemplo:\n",
    "\n",
    "```python\n",
    "x = 16\n",
    "y = 1\n",
    "z = x + y\n",
    "```\n",
    "\n",
    "Al final, el valor de \"z\" será 17.\n"
   ]
  },
  {
   "cell_type": "markdown",
   "metadata": {},
   "source": [
    "## Tipos básicos de datos\n",
    "En todos los lenguajes de programación existen unos tipos de datos (o valores) básicos comunes.\n",
    "Estos tipos de datos básicos y cómo se llaman en python son:\n",
    "- Números enteros: integer (int)\n",
    "- Numeros decimales: float (float)\n",
    "- Cadenas de texto: string (str)\n",
    "- Valores booleanos (True/False): boolean (bool)\n"
   ]
  },
  {
   "cell_type": "markdown",
   "metadata": {},
   "source": [
    "A continuación se ven algunos ejemplos de cada tipo.\n",
    "Siempre que se programa hay que tener en cuenta dos cosas:\n",
    "- Se suele hacer en inglés\n",
    "- Las variables tienen que ser claras con el contenido, como se verá en los ejemplos.\n",
    "\n",
    "```python\n",
    "age = 27\n",
    "height = 1.8\n",
    "name = 'Eduardo'\n",
    "married = False\n",
    "```\n",
    "\n",
    "Para imprimir el valor de una variable por pantalla, se puede utilizar la función \"print\". Aunque sea un adelanto, las funciones se llamán así:\n",
    "```python\n",
    "print(age)\n",
    "```"
   ]
  },
  {
   "cell_type": "code",
   "execution_count": 1,
   "metadata": {},
   "outputs": [
    {
     "name": "stdout",
     "output_type": "stream",
     "text": [
      "27\n"
     ]
    }
   ],
   "source": [
    "# Un ejemplo de código\n",
    "age = 27\n",
    "print(age)"
   ]
  },
  {
   "cell_type": "markdown",
   "metadata": {},
   "source": [
    "Las operaciones que se pueden realizar sobre estos tipos de datos son las siguentes. Cuando son números, las operaciones son tal cual, pero cuando son sobre cadenas o valores booleanos funcionan de forma diferente.\n",
    "- Comparación:\n",
    "- Suma:\n",
    "- Resta:\n",
    "- Multiplicación"
   ]
  },
  {
   "cell_type": "code",
   "execution_count": null,
   "metadata": {},
   "outputs": [],
   "source": []
  }
 ],
 "metadata": {
  "kernelspec": {
   "display_name": "Python 3",
   "language": "python",
   "name": "python3"
  },
  "language_info": {
   "codemirror_mode": {
    "name": "ipython",
    "version": 3
   },
   "file_extension": ".py",
   "mimetype": "text/x-python",
   "name": "python",
   "nbconvert_exporter": "python",
   "pygments_lexer": "ipython3",
   "version": "3.7.8"
  }
 },
 "nbformat": 4,
 "nbformat_minor": 4
}
