{
 "cells": [
  {
   "cell_type": "markdown",
   "metadata": {},
   "source": [
    "# Python nivel I: tipos básicos de datos y sus operaciones\n"
   ]
  },
  {
   "cell_type": "markdown",
   "metadata": {},
   "source": [
    "## Introducción\n",
    "Para empezar, vamos a decir que Python es un lenguaje de propósito general, por lo que sirve para gran tipo de ocasiones.\n",
    "Aunque todavía es pronto para eso, diremos que Python es un lenguaje interpretado y que soporta programación orientad a objetos. Esto significa que podemos definir un objeto, sus propiedades y su comportamiento y utilizarlos, pero esto ya se verá más adelante. \n",
    "\n",
    "De momento vamos con lo básico."
   ]
  },
  {
   "cell_type": "markdown",
   "metadata": {},
   "source": [
    "## La sintaxis\n",
    "\n",
    "Lo primero para escribir en lenguaje Python es saber leerlo y diferenciar los diferentes tipos de cosas. Esto se explicará más adelante, pero vamos a avanzar un poco.\n",
    "\n",
    "Lo primero que podemos leer es una asignación (como se vió en el contenido anterior y las cajas de memoria). Esto significa que estamos asignando un valor a una variable, por ejemmplo:\n",
    "```python\n",
    "x = 16\n",
    "```\n",
    "\n",
    "Esto significa que lo que sea que esté a la derecha del igual se asigna o \"guarda\" en la variable de la izquierda. De esta forma, podemos utilizar las variables para hacer operaciones. Si recordamos que el código se ejecuta de arriba a abajo, podemos ver el siguiente ejemplo:\n",
    "\n",
    "```python\n",
    "x = 16\n",
    "y = 1\n",
    "z = x + y\n",
    "```\n",
    "\n",
    "Al final, el valor de \"z\" será 17.\n"
   ]
  },
  {
   "cell_type": "markdown",
   "metadata": {},
   "source": [
    "## Tipos básicos de datos\n",
    "En todos los lenguajes de programación existen unos tipos de datos (o valores) básicos comunes.\n",
    "Estos tipos de datos básicos y cómo se llaman en python son:\n",
    "- Números enteros: integer (int)\n",
    "- Numeros decimales: float (float)\n",
    "- Cadenas de texto: string (str)\n",
    "- Valores booleanos (True/False): boolean (bool)\n"
   ]
  },
  {
   "cell_type": "markdown",
   "metadata": {},
   "source": [
    "A continuación se ven algunos ejemplos de cada tipo.\n",
    "Siempre que se programa hay que tener en cuenta dos cosas:\n",
    "- Se suele hacer en inglés\n",
    "- Las variables tienen que ser claras con el contenido, como se verá en los ejemplos.\n",
    "\n",
    "```python\n",
    "age = 27\n",
    "height = 1.8\n",
    "name = 'Eduardo'\n",
    "married = False\n",
    "```\n",
    "\n",
    "Para imprimir el valor de una variable por pantalla, se puede utilizar la función \"print\". Aunque sea un adelanto, las funciones se llamán así:\n",
    "\n",
    "```python\n",
    "print(age)\n",
    "```\n",
    "\n",
    "Y para saber de qué tipo es una variable, con la siguiente función:\n",
    "\n",
    "```python\n",
    "type(age)\n",
    "```"
   ]
  },
  {
   "cell_type": "code",
   "execution_count": 43,
   "metadata": {},
   "outputs": [
    {
     "name": "stdout",
     "output_type": "stream",
     "text": [
      "27\n"
     ]
    },
    {
     "data": {
      "text/plain": [
       "int"
      ]
     },
     "execution_count": 43,
     "metadata": {},
     "output_type": "execute_result"
    }
   ],
   "source": [
    "# Un ejemplo de código\n",
    "age = 27\n",
    "print(age)\n",
    "type(age)"
   ]
  },
  {
   "cell_type": "markdown",
   "metadata": {},
   "source": [
    "## Operaciones\n",
    "Las operaciones que se pueden realizar sobre estos tipos de datos son las siguentes. Cuando son números, las operaciones son tal cual, pero cuando son sobre cadenas o valores booleanos funcionan de forma diferente.\n",
    "- Comparación:\n",
    "- Suma:\n",
    "- Resta:\n",
    "- Multiplicación\n"
   ]
  },
  {
   "cell_type": "markdown",
   "metadata": {},
   "source": [
    "### Operaciones con enteros\n",
    "\n",
    "A continuación se ven algunos ejemplos de operaciones con enteros. Vamos a aprovechar a aprender a imprimir cosillas simples por pantalla con \"print()\".\n",
    "Algunas operaciones resultarán en un número decimal, por ejemplo las divisiones."
   ]
  },
  {
   "cell_type": "code",
   "execution_count": 44,
   "metadata": {},
   "outputs": [
    {
     "name": "stdout",
     "output_type": "stream",
     "text": [
      "x + y + 1 =  4\n",
      "x - z + 1 =  -4\n",
      "x * y =  2\n",
      "z / y =  3.0\n"
     ]
    }
   ],
   "source": [
    "x = 1\n",
    "y = 2\n",
    "z = 6\n",
    "\n",
    "summatory = x + y + 1\n",
    "difference = x - z + 1\n",
    "product = x * y\n",
    "division = z / y\n",
    "\n",
    "print('x + y + 1 = ', summatory)\n",
    "print('x - z + 1 = ', difference)\n",
    "print('x * y = ', product)\n",
    "print('z / y = ', division)"
   ]
  },
  {
   "cell_type": "markdown",
   "metadata": {},
   "source": [
    "#### Ejercicio 0: Escribe algunas operaciones de ejemplo e imprime sus resultados"
   ]
  },
  {
   "cell_type": "code",
   "execution_count": 45,
   "metadata": {},
   "outputs": [],
   "source": [
    "x = 12\n",
    "y = 9\n",
    "z = -1\n",
    "\n",
    "# Escribir aqui:\n"
   ]
  },
  {
   "cell_type": "markdown",
   "metadata": {},
   "source": [
    "### Operaciones con decimales\n",
    "\n",
    "A continuación se ven algunos ejemplos de operaciones con decimales."
   ]
  },
  {
   "cell_type": "code",
   "execution_count": 46,
   "metadata": {},
   "outputs": [
    {
     "name": "stdout",
     "output_type": "stream",
     "text": [
      "x + y + 1 =  22.423000000000002\n",
      "x - z + 1 =  14.472999999999999\n",
      "x * y =  112.7439\n",
      "z / y =  -0.14516129032258066\n"
     ]
    }
   ],
   "source": [
    "x = 12.123\n",
    "y = 9.3\n",
    "z = -1.35\n",
    "\n",
    "summatory = x + y + 1\n",
    "difference = x - z + 1\n",
    "product = x * y\n",
    "division = z / y\n",
    "\n",
    "print('x + y + 1 = ', summatory)\n",
    "print('x - z + 1 = ', difference)\n",
    "print('x * y = ', product)\n",
    "print('z / y = ', division)\n"
   ]
  },
  {
   "cell_type": "markdown",
   "metadata": {},
   "source": [
    "#### Ejercicio 1: Escribe algunas operaciones de ejemplo e imprime sus resultados"
   ]
  },
  {
   "cell_type": "code",
   "execution_count": 47,
   "metadata": {},
   "outputs": [],
   "source": [
    "x = 12.123\n",
    "y = 9.3\n",
    "z = -1.35\n",
    "\n",
    "# Escribir aqui:\n",
    "\n"
   ]
  },
  {
   "cell_type": "markdown",
   "metadata": {},
   "source": [
    "### Operaciones con cadenas de texto\n",
    "\n",
    "A continuación se ven algunos ejemplos de operaciones con cadenas de texto."
   ]
  },
  {
   "cell_type": "code",
   "execution_count": 48,
   "metadata": {},
   "outputs": [
    {
     "name": "stdout",
     "output_type": "stream",
     "text": [
      "John Doe\n",
      "JohnJohn\n"
     ]
    }
   ],
   "source": [
    "name = 'John'\n",
    "surname = 'Doe'\n",
    "\n",
    "complet_name = name + ' ' + surname\n",
    "name_twice = name * 2\n",
    "\n",
    "print(complet_name)\n",
    "print(name_twice)"
   ]
  },
  {
   "cell_type": "markdown",
   "metadata": {},
   "source": [
    "#### Ejercicio 2: Escribe algunas operaciones de ejemplo e imprime sus resultados"
   ]
  },
  {
   "cell_type": "code",
   "execution_count": 49,
   "metadata": {},
   "outputs": [],
   "source": [
    "name = ''\n",
    "surname = ''\n",
    "\n",
    "# Escribir aqui:\n",
    "\n"
   ]
  },
  {
   "cell_type": "markdown",
   "metadata": {},
   "source": [
    "### Operaciones con booleanos\n",
    "\n",
    "A continuación se ven algunos ejemplos de operaciones con booleanos.\n",
    "Cuando se utilizan operaciones +, -, *, / los booleanos se comportan como 1 o 0 para True y False."
   ]
  },
  {
   "cell_type": "code",
   "execution_count": 50,
   "metadata": {},
   "outputs": [
    {
     "name": "stdout",
     "output_type": "stream",
     "text": [
      "True\n",
      "False\n"
     ]
    }
   ],
   "source": [
    "x = True\n",
    "y = False\n",
    "\n",
    "x_or_y = x or y\n",
    "x_and_y = x and y\n",
    "\n",
    "print(x_or_y)\n",
    "print(x_and_y)"
   ]
  },
  {
   "cell_type": "markdown",
   "metadata": {},
   "source": [
    "#### Ejercicio 3: Escribe algunas operaciones de ejemplo e imprime sus resultados"
   ]
  },
  {
   "cell_type": "code",
   "execution_count": 51,
   "metadata": {},
   "outputs": [],
   "source": [
    "x = True\n",
    "y = False\n",
    "\n",
    "# Escribir aqui:"
   ]
  },
  {
   "cell_type": "markdown",
   "metadata": {},
   "source": [
    "## Conversión entre tipos\n",
    "Para convertir de un tipo de datos a otro se utilizan las siguientes funciones:\n",
    "- convertir a entero (integer): int()\n",
    "- convertir a decimal (float): float()\n",
    "- convertir a cadena de texto (string): str()\n",
    "- convertir a booleano (bool): bool()\n",
    "\n",
    "No todos los valores se pueden convertir de un tipo a otro. Aquí entra el sentido común: ¿Cómo se convierte un nombre en un número?, por ejemplo."
   ]
  },
  {
   "cell_type": "code",
   "execution_count": 52,
   "metadata": {},
   "outputs": [
    {
     "name": "stdout",
     "output_type": "stream",
     "text": [
      "using int():\n",
      "1\n",
      "0\n",
      "using float():\n",
      "27.0\n",
      "0.0\n",
      "using str():\n",
      "27\n",
      "1.8\n",
      "False\n",
      "using bool():\n",
      "True\n",
      "True\n",
      "True\n"
     ]
    }
   ],
   "source": [
    "# Podemos ver unos ejemplos con las siguientes variables:\n",
    "age = 27\n",
    "height = 1.8\n",
    "name = 'Eduardo'\n",
    "married = False\n",
    "\n",
    "print('using int():')\n",
    "print(int(height))\n",
    "print(int(married))\n",
    "\n",
    "print('using float():')\n",
    "print(float(age))\n",
    "print(float(married))\n",
    "\n",
    "print('using str():')\n",
    "print(str(age))\n",
    "print(str(height))\n",
    "print(str(married))\n",
    "\n",
    "print('using bool():')\n",
    "print(bool(age))\n",
    "print(bool(height))\n",
    "print(bool(name))\n"
   ]
  },
  {
   "cell_type": "markdown",
   "metadata": {},
   "source": [
    "#### Ejercicio 4: Escribe algunas operaciones de ejemplo e imprime sus resultados"
   ]
  },
  {
   "cell_type": "code",
   "execution_count": 53,
   "metadata": {},
   "outputs": [],
   "source": [
    "age = 27\n",
    "height = 1.8\n",
    "name = 'Eduardo'\n",
    "married = False\n",
    "\n",
    "#Escribir aquí:\n",
    "\n",
    "\n",
    "\n"
   ]
  },
  {
   "cell_type": "markdown",
   "metadata": {},
   "source": [
    "# Soluciones"
   ]
  },
  {
   "cell_type": "markdown",
   "metadata": {},
   "source": [
    "## Ejercicio 0: Escribe algunas operaciones de ejemplo e imprime sus resultados"
   ]
  },
  {
   "cell_type": "code",
   "execution_count": 54,
   "metadata": {},
   "outputs": [
    {
     "name": "stdout",
     "output_type": "stream",
     "text": [
      "x + y + 1 =  20\n",
      "x - z + 1 =  13\n",
      "x * y =  -108\n",
      "z / y =  0.1111111111111111\n"
     ]
    }
   ],
   "source": [
    "# Una solución para el problema puede ser: \n",
    "\n",
    "x = 12\n",
    "y = 9\n",
    "z = -1\n",
    "\n",
    "summatory = x + y + z\n",
    "difference = x - z\n",
    "product = x * y * z\n",
    "division = z / y / z\n",
    "\n",
    "print('x + y + 1 = ', summatory)\n",
    "print('x - z + 1 = ', difference)\n",
    "print('x * y = ', product)\n",
    "print('z / y = ', division)"
   ]
  },
  {
   "cell_type": "markdown",
   "metadata": {},
   "source": [
    "## Ejercicio 1: Escribe algunas operaciones de ejemplo e imprime sus resultados"
   ]
  },
  {
   "cell_type": "code",
   "execution_count": 55,
   "metadata": {},
   "outputs": [
    {
     "name": "stdout",
     "output_type": "stream",
     "text": [
      "x + y + 1 =  20.073\n",
      "x - z + 1 =  13.472999999999999\n",
      "x * y =  -152.204265\n",
      "z / y =  0.10752688172043011\n"
     ]
    }
   ],
   "source": [
    "# Una solución para el problema puede ser: \n",
    "\n",
    "x = 12.123\n",
    "y = 9.3\n",
    "z = -1.35\n",
    "\n",
    "summatory = x + y + z\n",
    "difference = x - z\n",
    "product = x * y * z\n",
    "division = z / y / z\n",
    "\n",
    "print('x + y + 1 = ', summatory)\n",
    "print('x - z + 1 = ', difference)\n",
    "print('x * y = ', product)\n",
    "print('z / y = ', division)"
   ]
  },
  {
   "cell_type": "markdown",
   "metadata": {},
   "source": [
    "## Ejercicio 2: Escribe algunas operaciones de ejemplo e imprime sus resultados"
   ]
  },
  {
   "cell_type": "code",
   "execution_count": 56,
   "metadata": {},
   "outputs": [
    {
     "name": "stdout",
     "output_type": "stream",
     "text": [
      "My name is Peter Parker\n"
     ]
    }
   ],
   "source": [
    "name = 'Peter'\n",
    "surname = 'Parker'\n",
    "\n",
    "complet_name = name + ' ' + surname\n",
    "\n",
    "print('My name is ' + complet_name)\n"
   ]
  },
  {
   "cell_type": "markdown",
   "metadata": {},
   "source": [
    "## Ejercicio 3: Escribe algunas operaciones de ejemplo e imprime sus resultados"
   ]
  },
  {
   "cell_type": "code",
   "execution_count": 57,
   "metadata": {},
   "outputs": [
    {
     "name": "stdout",
     "output_type": "stream",
     "text": [
      "False\n",
      "True\n",
      "1\n",
      "0\n"
     ]
    }
   ],
   "source": [
    "x = True\n",
    "y = False\n",
    "\n",
    "print(x and y)\n",
    "print(x or y)\n",
    "print(x + y)\n",
    "print(x * y)"
   ]
  },
  {
   "cell_type": "markdown",
   "metadata": {},
   "source": [
    "## Ejercicio 4: Escribe algunas operaciones de ejemplo e imprime sus resultados"
   ]
  },
  {
   "cell_type": "code",
   "execution_count": 58,
   "metadata": {},
   "outputs": [
    {
     "name": "stdout",
     "output_type": "stream",
     "text": [
      "1\n",
      "27.0\n",
      "1.8\n",
      "True\n"
     ]
    }
   ],
   "source": [
    "print(int(height))\n",
    "print(float(age))\n",
    "print(str(height))\n",
    "print(bool(age))\n"
   ]
  },
  {
   "cell_type": "code",
   "execution_count": null,
   "metadata": {},
   "outputs": [],
   "source": []
  }
 ],
 "metadata": {
  "kernelspec": {
   "display_name": "Python 3",
   "language": "python",
   "name": "python3"
  },
  "language_info": {
   "codemirror_mode": {
    "name": "ipython",
    "version": 3
   },
   "file_extension": ".py",
   "mimetype": "text/x-python",
   "name": "python",
   "nbconvert_exporter": "python",
   "pygments_lexer": "ipython3",
   "version": "3.7.8"
  }
 },
 "nbformat": 4,
 "nbformat_minor": 4
}
