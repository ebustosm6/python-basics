{
 "cells": [
  {
   "cell_type": "markdown",
   "metadata": {},
   "source": [
    "# Introducción\n",
    "\n",
    "Esto es un curso con todo lo que me hubiese gustado saber antes de aprender a programar.\n",
    "La idea es aprender los conceptos de la programación haciendo uso del lenguaje Python.\n",
    "Esto significa que todo estará muy simplificado (muchas cosas, por hacerlas simples, las definiremos mal). Más adelante se explicarán mejor, si no, siempre nos quedará wikipedia.\n",
    "\n",
    "Los contenidos serán:\n",
    "- Cosas básicas de ordenadores\n",
    "- Cosas básicas del sistema operativo\n",
    "- Cosas básicas de un programa\n",
    "- Cosas básicas de los lenguajes de programación\n",
    "- Antes de entrar en batalla\n",
    "- Python\n",
    "\n",
    "En algunos contenidos habrá ejemplos y ejercicios porque la programación se aprende programando, no hay otra."
   ]
  },
  {
   "cell_type": "code",
   "execution_count": null,
   "metadata": {},
   "outputs": [],
   "source": []
  }
 ],
 "metadata": {
  "kernelspec": {
   "display_name": "Python 3",
   "language": "python",
   "name": "python3"
  },
  "language_info": {
   "codemirror_mode": {
    "name": "ipython",
    "version": 3
   },
   "file_extension": ".py",
   "mimetype": "text/x-python",
   "name": "python",
   "nbconvert_exporter": "python",
   "pygments_lexer": "ipython3",
   "version": "3.7.8"
  }
 },
 "nbformat": 4,
 "nbformat_minor": 4
}
