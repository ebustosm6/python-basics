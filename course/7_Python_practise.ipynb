{
 "cells": [
  {
   "cell_type": "markdown",
   "metadata": {},
   "source": [
    "# 7 Python practise\n",
    "Ahora que ya hemos visto hasta las funciones, vamos a hacer unos cuantos ejercicios más complejos que utilizan todo lo que hemos visto hasta ahora.\n",
    "\n",
    "Aquí ya vamos a mezclar todo y a practicar las funciones, sobre todo."
   ]
  },
  {
   "cell_type": "code",
   "execution_count": null,
   "metadata": {},
   "outputs": [],
   "source": [
    "# Ejercicio 0: Crear un buscador de personas.\n",
    "# Supongamos que tenemos una lista de personas (cada una será un diccionario)\n",
    "# Y queremos una función que busque a una determinada persona en la lista.\n",
    "# Para la b´squeda, podemos buscar por id, nombre o edad.\n",
    "# Las personas tendrán un id (string), un nombre (string), una edad (int)\n",
    "# también si están casados (bool) que será opcional y \n",
    "# devolverá una lista con las personas coincidentes\n",
    "\n",
    "# definición de variables\n",
    "people = [\n",
    "    {'id': '34b2k4j', 'name': 'Jhon', 'age': 32, 'married': None},\n",
    "    {'id': '3dvs332', 'name': 'Mary', 'age': 30, 'married': True},\n",
    "    {'id': '34bfgdg', 'name': 'Peter', 'age': 38, 'married': True},\n",
    "    {'id': '34df4ga', 'name': 'Laura', 'age': 37, 'married': False},\n",
    "    {'id': 'df34k4j', 'name': 'Alex', 'age': 23, 'married': True},\n",
    "    {'id': 'gfd2k6j', 'name': 'Jim', 'age': 18, 'married': False},\n",
    "    {'id': '34as242', 'name': 'Alexa', 'age': 65, 'married': None},\n",
    "    {'id': 'd32b2kj', 'name': 'Victoria', 'age': 12, 'married': False},\n",
    "    {'id': '23df2fs', 'name': 'Donald', 'age': 7, 'married': False},\n",
    "    {'id': 'gf4b2kb', 'name': 'Micky', 'age': 54, 'married': False},\n",
    "]\n",
    "\n",
    "# definición de la función\n",
    "def search_person(people, idd=None, name=None, age=None):\n",
    "    result = []\n",
    "    for person in people:\n",
    "        if idd is not None:\n",
    "            if person['id'] == idd:\n",
    "                result.append(person)\n",
    "        if name is not None:\n",
    "            if person['name'] == name:\n",
    "                result.append(person)\n",
    "        if age is not None:\n",
    "            if person['age'] == age:\n",
    "                result.append(person)\n",
    "                \n",
    "    # hemos recorrido todas las personas pero puede ser que tengamos duplicadas\n",
    "    # convertimos la lista en un set para que se queden únicos\n",
    "    result = set(result)\n",
    "    return result\n",
    "    \n",
    "    "
   ]
  },
  {
   "cell_type": "code",
   "execution_count": null,
   "metadata": {},
   "outputs": [],
   "source": []
  }
 ],
 "metadata": {
  "kernelspec": {
   "display_name": "Python 3",
   "language": "python",
   "name": "python3"
  },
  "language_info": {
   "codemirror_mode": {
    "name": "ipython",
    "version": 3
   },
   "file_extension": ".py",
   "mimetype": "text/x-python",
   "name": "python",
   "nbconvert_exporter": "python",
   "pygments_lexer": "ipython3",
   "version": "3.7.8"
  }
 },
 "nbformat": 4,
 "nbformat_minor": 4
}
