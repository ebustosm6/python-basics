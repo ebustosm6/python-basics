{
 "cells": [
  {
   "cell_type": "markdown",
   "metadata": {},
   "source": [
    "# Python nivel III: Bucles y condiciones\n",
    "Ahora que ya sabemos lo que son las diferentes estructuras para guardar elementos, vamos a ver como iterar sobre ellas (recorrerlas), además de evaluar condiciones.\n",
    "\n",
    "A modo de introducción, diremos que hay una estructura fundamental de condiciones:\n",
    "- if / elif / else: Evalúa una expresión y se ejecuta una parte de código u otra.\n",
    "Que veremos en detalle.\n",
    "\n",
    "Además de los dos tipos de bucles:\n",
    "- Bucle while: Este bucle se ejecuta mientras (de ahí el while) una condición se cumpla.\n",
    "- Bucle for: Este bucle hace una iteración para cada elemento de la estructura.\n",
    "\n",
    "Vamos a verlo más detalladamente."
   ]
  },
  {
   "cell_type": "markdown",
   "metadata": {},
   "source": [
    "## Antes de entrar en faena\n",
    "Ahora que ya empezamos con cosas más complejas, es bueno mencionar una página que me ayudó mucho a entender cómo se ejecutan las cosas paso a paso y cómo está el estado de la memoria en cada momento. \n",
    "Es una herramienta muy útil al principio para ejecutar paso a paso cualquier programa y ver lo que está pasando.\n",
    "\n",
    "La página es [Python tutor](http://www.pythontutor.com/). Para empezar, pinchar en [Start visualizing your code now](http://www.pythontutor.com/visualize.html#mode=edit)\n",
    "\n",
    "También sirve por si jupyter se quedá tostado, se puede copiar el código de aquí y ejecutarlo ahí.\n",
    "\n",
    "\n",
    "![Fray](resources/programmers-meme-no-errors.jpg)\n"
   ]
  },
  {
   "cell_type": "markdown",
   "metadata": {},
   "source": [
    "## Condiciones: if / elif / else\n",
    "Cuando estamos ejecutando un programa (recordamos que se ejecuta linea por línea de arriba a abajo) a veces queremos hacer diferentes cosas según una condición, para ello se utiliza el condicionante if.\n",
    "\n",
    "La estructura del if / elif / else es:\n",
    "```python\n",
    "if condition_1:\n",
    "    # ejecutar el código de estas líneas cuando cumple la condición 1\n",
    "elif condition_2:\n",
    "    # ejecutar el código de estas líneas cuando no cumple la condición 1 pero sí cumple la condición 2\n",
    "else:\n",
    "    # ejecutar el código de estas líneas cuando no cumple ninguna condición\n",
    "```\n",
    "\n",
    "Como nota: Puede haber sólo un if, un if / else o un if / elif / elif / ... / else. Pero siempre se empieza por if, y nunca puede haber un else sin un if o elif antes. \n",
    "\n",
    "Vamos a verlo con un ejemplo muy sencillo y ya de paso vamos a empezar a hacer ejemplos y programas un poco más complejos y que ya parezcan más útiles.\n",
    "\n",
    "Con los siguientes datos:\n",
    "Queremos hacer un programa que calcule el precio de la entrada del cine en función de la edad del comprador.\n",
    "La entreda de adulto vale 8 euros, si es menor de edad, 6.5 euros y si es jubilado, 5.3, por ejemplo.\n",
    "Entonces lo que hay que hacer es definir dos variables (edad y precio) y con una estructura de condiciones, cambiar el valor de la variable del precio según lo que valga la de la edad. \n",
    "\n",
    "Vamos a ver el programa:"
   ]
  },
  {
   "cell_type": "code",
   "execution_count": null,
   "metadata": {},
   "outputs": [],
   "source": [
    "age = 27\n",
    "price = 8\n",
    "\n",
    "if age < 18:\n",
    "    # is young, así que igualamos el precio a 6.5\n",
    "    price = 6.5\n",
    "\n",
    "elif age >= 65:\n",
    "    # is old, así que igualamos el precio a 5.3\n",
    "    price = 5.3\n",
    "    \n",
    "else:\n",
    "    # is adult (18 <= age < 65), así que igualamos el precio a 8\n",
    "    # este else en realidad no hace falta porque \"price\" ya vale 8 al principio del programa, pero lo dejamos para el ejemplo\n",
    "    price = 8\n",
    "    \n",
    "# imprimimos el resultado con un poco de estilo (esto se llama string format) y las {} sirven para sustituir por los valores\n",
    "# Hay que poner tantas {} como cosas queramos imprimir\n",
    "print('El precio de la entrada para la edad {} es {}'.format(age, price))\n"
   ]
  },
  {
   "cell_type": "markdown",
   "metadata": {},
   "source": [
    "## Bucle while\n",
    "El bucle while sirve para ejecutar un trozo de código indefinidamente mientras que se cumple una condición.\n",
    "\n",
    "Un ejemplo puede ser imprimir los primero 10 números:\n",
    "Para esto habría que:\n",
    "1. Definir una variable = 0 y un límite = 10\n",
    "2. Imprimir la variable\n",
    "3. Sumar 1 a la variable\n",
    "4. Repetir los pasos 2 y 3 hasta que la variable sea == al límite.\n",
    "\n",
    "Vemos el ejemplo:"
   ]
  },
  {
   "cell_type": "code",
   "execution_count": 1,
   "metadata": {},
   "outputs": [
    {
     "name": "stdout",
     "output_type": "stream",
     "text": [
      "0\n",
      "1\n",
      "2\n",
      "3\n",
      "4\n",
      "5\n",
      "6\n",
      "7\n",
      "8\n",
      "9\n",
      "10\n"
     ]
    }
   ],
   "source": [
    "number = 0\n",
    "limit = 10\n",
    "\n",
    "while number <= limit:\n",
    "    # imprimir la variable y sumarle 1\n",
    "    print(number)\n",
    "    number += 1"
   ]
  },
  {
   "cell_type": "code",
   "execution_count": null,
   "metadata": {},
   "outputs": [],
   "source": [
    "# Ejercicio 0: Con un bucle while, imprimir todos los nombres de la siguiente lista\n",
    "# Para saber la longitud de una estructura se utiliza la función len(<lista>)\n",
    "names = ['Jhon', 'Scarlett', 'Vanessa', 'Isabel', 'Peter', 'Julius']\n",
    "\n",
    "# Escribir aquí:\n",
    "\n"
   ]
  },
  {
   "cell_type": "markdown",
   "metadata": {},
   "source": [
    "## Bucle for\n",
    "El bucle while sirve para ejecutar un trozo de código para cada elemento de una estructura iterable:\n",
    "\n",
    "Un ejemplo puede ser imprimir los valores de una lista:\n",
    "Veamos un ejemplo:"
   ]
  },
  {
   "cell_type": "code",
   "execution_count": 4,
   "metadata": {},
   "outputs": [
    {
     "name": "stdout",
     "output_type": "stream",
     "text": [
      "banana\n",
      "orange\n",
      "lemon\n"
     ]
    }
   ],
   "source": [
    "fruits = ['banana', 'orange', 'lemon']\n",
    "\n",
    "for fruit in fruits:\n",
    "    print(fruit)"
   ]
  },
  {
   "cell_type": "code",
   "execution_count": null,
   "metadata": {},
   "outputs": [],
   "source": [
    "# Ejercicio 1: Crear una lista de elemntos que se quiera e imprimirla\n",
    "\n",
    "\n",
    "# Escribir aquí:\n",
    "\n"
   ]
  },
  {
   "cell_type": "markdown",
   "metadata": {},
   "source": [
    "## Hasta aquí\n",
    "En este punto ya hemos visto varias cosas interesantes:\n",
    "- tipos básicos de datos y sus operaciones\n",
    "- estructuras básicas\n",
    "- bucles\n",
    "\n",
    "Con esto ya podemos empezar a hacer programas un poco más complejo, combinar bucles con estructuras if / else, etc.\n",
    "El siguiente jupyter notebook (.ipynb) vamos a plantear algunos ejercicios para coger un poco de práctica y para ver algunas cosas más concretas.\n",
    "\n",
    "Los ejercicios que se verán ya tendrán un poco más sentido para ver ejemplos prácticos de pequeños programas. Lo más difícil es pensar cómo resolver el problema, así que daremos unas pistas para enforcarlo. De todas formas, lo importante es equivocarse para aprender de los errores."
   ]
  },
  {
   "cell_type": "markdown",
   "metadata": {},
   "source": [
    "## Soluciones"
   ]
  },
  {
   "cell_type": "code",
   "execution_count": 2,
   "metadata": {},
   "outputs": [
    {
     "name": "stdout",
     "output_type": "stream",
     "text": [
      "Jhon\n",
      "Scarlett\n",
      "Vanessa\n",
      "Isabel\n",
      "Peter\n",
      "Julius\n"
     ]
    }
   ],
   "source": [
    "# Ejercicio 0: Con un bucle while, imprimir todos los nombres de la siguiente lista\n",
    "names = ['Jhon', 'Scarlett', 'Vanessa', 'Isabel', 'Peter', 'Julius']\n",
    "\n",
    "names_index = 0\n",
    "names_length = len(names)\n",
    "\n",
    "while names_index < names_length:\n",
    "    print(names[names_index])\n",
    "    names_index += 1"
   ]
  },
  {
   "cell_type": "code",
   "execution_count": 6,
   "metadata": {},
   "outputs": [
    {
     "name": "stdout",
     "output_type": "stream",
     "text": [
      "asd324ada\n",
      "oi234nl234\n",
      "2kl34naa24\n"
     ]
    }
   ],
   "source": [
    "# Ejercicio 1: Crear una lista de elemntos que se quiera e imprimirla\n",
    "\n",
    "example_ids = ['asd324ada', 'oi234nl234', '2kl34naa24']\n",
    "\n",
    "for example_id in example_ids:\n",
    "    print(example_id)"
   ]
  },
  {
   "cell_type": "code",
   "execution_count": null,
   "metadata": {},
   "outputs": [],
   "source": []
  }
 ],
 "metadata": {
  "kernelspec": {
   "display_name": "Python 3",
   "language": "python",
   "name": "python3"
  },
  "language_info": {
   "codemirror_mode": {
    "name": "ipython",
    "version": 3
   },
   "file_extension": ".py",
   "mimetype": "text/x-python",
   "name": "python",
   "nbconvert_exporter": "python",
   "pygments_lexer": "ipython3",
   "version": "3.7.8"
  }
 },
 "nbformat": 4,
 "nbformat_minor": 4
}
