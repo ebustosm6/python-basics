{
 "cells": [
  {
   "cell_type": "markdown",
   "metadata": {},
   "source": [
    "# 6 Python IV: funciones\n",
    "Hasta ahora hemos visto las principales estructuras que se utilizan en python, como son los bucles y las estructuras if / else.\n",
    "\n",
    "Hasta ahora hemos estado estructurando el código de la siguiente manera:\n",
    "```python\n",
    "# zona de variables\n",
    "x = 13\n",
    "y = 4\n",
    "\n",
    "# zona de código\n",
    "result = x * y\n",
    "\n",
    "# zona resultado\n",
    "print('El resultado es {}'.format(result))\n",
    "```\n",
    "\n",
    "A partir de ahora vamos a organizar el código en funciones.\n",
    "Las funciones son otrzos de código que realizan una tarea y que se pueden utlizar tantas veces como se quiera, en lugar de tener que repetir código en varias partes del programa.\n"
   ]
  },
  {
   "cell_type": "markdown",
   "metadata": {},
   "source": [
    "Veamos un ejemplo:\n",
    "\n",
    "Nos piden un programa que dada una lista, devuelva si el elemento está en la lista. Este tipo de problemas los hemos resuelto en apartados anteriores.\n",
    "\n",
    "Un código que haga esto podría ser:\n",
    "```python\n",
    "# zona de variables (inputs)\n",
    "elements = ['element_1', 'element_2', 'element_3']\n",
    "target_element = 'element_2'\n",
    "result = False\n",
    "\n",
    "# zona de código\n",
    "for element in elements:\n",
    "    if element == target_element:\n",
    "        result = True\n",
    "        \n",
    "# zona resultado\n",
    "print('El elemento está en la lista: {}'.format(result))\n",
    "```\n",
    "\n",
    "Pero ¿Qué pasa si tenemos que buscar elementos en una lista varias veces? ¿Y si el elemento que buscamos cambia, o la lista cambia? Pues esto se soluciona creando una función más genérica, es decir, creando una función encargada de:\n",
    "- dada una lista de elementos cualquiera\n",
    "- dado un elemento a buscar en esa lista\n",
    "- nos devuelva si el elemento está o no\n",
    "\n",
    "Ahora explicaremos cómo hace runa función, pero podemos ver cómo se haría ene ste caso:\n",
    "\n",
    "```python\n",
    "def search(elements_list, element):\n",
    "    result = False\n",
    "    for element in elements:\n",
    "        if element == target_element:\n",
    "            result = True\n",
    "    return result\n",
    "\n",
    "```\n",
    "\n",
    "Una cosa muy **IMPORTANTE** es saber que las variables que definimos dentro de una función no las podemos utilizar fuera."
   ]
  },
  {
   "cell_type": "markdown",
   "metadata": {},
   "source": [
    "## Crear una función\n",
    "Las funciones son trozos de codigo reutilizables. Podemos imaginarlas como cajas negras que reciben unos inputs y devuelven unos outpus. Por regla general devuelven sólo una cosa.\n",
    "\n",
    "Las partes de una función son:\n",
    "- argumentos (son las variables entre paréntesis)\n",
    "- salida (es la variable que se hace return)\n",
    "- código que ejecuta (es el código debajo de \"def nombre(argumentos):\")\n",
    "\n",
    "Una vez que tenemos la función definida, se puede llamar tantas veces como se quiera de la siguiente forma:\n",
    "\n",
    "```python\n",
    "fruit_list = ['banana', 'cherry', 'orange']\n",
    "target_fruit = 'orange'\n",
    "result = search(elements_list, element)\n",
    "```\n",
    "\n",
    "De esta forma, no hace falta re-escribir el bucle, simplemente podemos utilizar ese bloque de código con listas y elementos diferentes tantas veces como necesitemos.\n"
   ]
  },
  {
   "cell_type": "markdown",
   "metadata": {},
   "source": [
    "Como buena práctica, dentro de una función, siempre se define la variable que vamos a retornar al principio, y se devuelve al final con \"return\". Vamos a ver un ejemplo que compruebe si una edad es mayor de edad:\n",
    "\n",
    "Forma correcta:\n",
    "```python\n",
    "def is_adult(age):\n",
    "    result = False\n",
    "    if age >= 18:\n",
    "        result = True\n",
    "    return result\n",
    "```\n",
    "\n",
    "Forma no correcta (aunque funciona):\n",
    "```python\n",
    "def is_adult(age):\n",
    "    if age >= 18:\n",
    "        return True\n",
    "    else:\n",
    "        return False\n",
    "```"
   ]
  },
  {
   "cell_type": "markdown",
   "metadata": {},
   "source": [
    "## Argumentos opcionales\n",
    "Como hemos visto, las funciones reciben unos parámetros de entrada. ¿?"
   ]
  },
  {
   "cell_type": "markdown",
   "metadata": {},
   "source": [
    "## Para practicar un poco\n",
    "Vamos a hacer algunos ejercicios para practicar.\n",
    "La estructura que vamos a seguir para estos ejemplos es la siguiente.\n",
    "\n",
    "Podemos poner un ejemplo sencillo con una función que dado un número del mes nos devuelva el nombre del mes (este ejemplo ya lo hemos visto anteriormente). En este ejemplo voy a utilizar un diccionario. En caso de que el número no esté entre 1 y 12, se devolverá None (que representa a la nada).\n",
    "    \n",
    "```python\n",
    "# definicion de variables de ejemplo\n",
    "number_of_month = 5\n",
    "\n",
    "# definición de la función\n",
    "def string_month(num_month):\n",
    "    result = None  # por defecto el resultado es None\n",
    "    # hacemos un diccionario con los números y los meses\n",
    "    months = {\n",
    "        1: 'Enero', 2: 'Febrero', 3: 'Marzo', 4: 'Abril', 5: 'Mayo', 6: 'Junio',\n",
    "        7: 'Julio', 8: 'Agosto', 9: 'Septiembre', 10: 'Octubre', 11: 'Noviembre', 12: 'Diciembre'\n",
    "    }\n",
    "    \n",
    "    if num_month >= 1 and num_month <= 12: # si el numero de mes está entre 1 y 12\n",
    "        result = months[num_month] # se coge el nombre del mes\n",
    "    \n",
    "    return result # retornamos el valor del mes (o None en el caso de otros números no entre 1 y 12)\n",
    "        \n",
    "\n",
    "# llamada a la función\n",
    "# una buena práctica es escribir los argumentos que estamos pasando, para leerlo mejor\n",
    "name_month = string_month(num_month=number_of_month) # llamamos a la funcion con el argumento que queramos\n",
    "name_month = string_month(num_month=5) # también se puede llamar a las funciones con el valor directamente\n",
    "\n",
    "\n",
    "# resultado\n",
    "print('El mes {} se llama {}'.format(number_of_month, name_month))\n",
    "```\n",
    "    "
   ]
  },
  {
   "cell_type": "markdown",
   "metadata": {},
   "source": [
    "## Ejercicios"
   ]
  },
  {
   "cell_type": "code",
   "execution_count": null,
   "metadata": {},
   "outputs": [],
   "source": [
    "# Ejercicio 0: crear una función que compruebe si un número es par\n",
    "\n",
    "# definicion de variables de ejemplo\n",
    "\n",
    "\n",
    "# definición de la función\n",
    "\n",
    "\n",
    "\n",
    "# llamada a la función\n",
    "\n",
    "\n",
    "\n",
    "# resultado\n"
   ]
  },
  {
   "cell_type": "code",
   "execution_count": null,
   "metadata": {},
   "outputs": [],
   "source": [
    "# Ejercicio 1: crear una función que sume dos números\n",
    "\n",
    "# definicion de variables de ejemplo\n",
    "\n",
    "\n",
    "# definición de la función\n",
    "\n",
    "\n",
    "\n",
    "# llamada a la función\n",
    "\n",
    "\n",
    "\n",
    "# resultado\n"
   ]
  },
  {
   "cell_type": "code",
   "execution_count": null,
   "metadata": {},
   "outputs": [],
   "source": [
    "# Ejercicio 2: crear una función que haga operaciones matemáticas según el operador que se le mande.\n",
    "# La función recibe tres argumentos: n1, n2, operator (será un string de estos: '+' '-' '*' '/').\n",
    "# Según el operador que reciba, suma, resta, multiplica o divie. Si el operador no es ninguno, devuelve None (nada)\n",
    "# PISTA: se pueden usar if para comprobar si el operador es una cosa o la otra\n",
    "\n",
    "# definicion de variables de ejemplo\n",
    "\n",
    "\n",
    "# definición de la función\n",
    "\n",
    "\n",
    "\n",
    "# llamada a la función\n",
    "\n",
    "\n",
    "\n",
    "# resultado\n"
   ]
  },
  {
   "cell_type": "code",
   "execution_count": null,
   "metadata": {},
   "outputs": [],
   "source": [
    "# Ejercicio 3: Crear una función al que le pasemos una lista y devuelva otra con los elementos al revés:\n",
    "# Por ejemplo: entrada = ['a', 'b', 'c'] y la salida = ['c', 'b', 'a']\n",
    "# PISTA: Se puede recorrer una lista de inicio a fin o de fin a inicio\n",
    "# PISTA: Se puede crear otra lista y guardar uno a uno los elementos de la primera lista\n",
    "# PISTA: Para saber la longitud de una lista se usa la función len(<lista>)\n",
    "\n",
    "\n",
    "# definicion de variables de ejemplo\n",
    "\n",
    "\n",
    "# definición de la función\n",
    "\n",
    "\n",
    "\n",
    "# llamada a la función\n",
    "\n",
    "\n",
    "\n",
    "# resultado\n"
   ]
  },
  {
   "cell_type": "markdown",
   "metadata": {},
   "source": [
    "## Soluciones"
   ]
  },
  {
   "cell_type": "code",
   "execution_count": 6,
   "metadata": {},
   "outputs": [
    {
     "name": "stdout",
     "output_type": "stream",
     "text": [
      "El número 12 es par: True\n"
     ]
    }
   ],
   "source": [
    "# Ejercicio 0: crear una función que compruebe si un número es par\n",
    "\n",
    "# definicion de variables de ejemplo\n",
    "target_number = 12\n",
    "\n",
    "# definición de la función\n",
    "def is_pair(n):\n",
    "    pair = (n % 2) == 0\n",
    "    return pair\n",
    "\n",
    "\n",
    "# llamada a la función\n",
    "result = is_pair(target_number)\n",
    "\n",
    "\n",
    "# resultado\n",
    "print('El número {} es par: {}'.format(target_number, result))"
   ]
  },
  {
   "cell_type": "code",
   "execution_count": 8,
   "metadata": {},
   "outputs": [
    {
     "name": "stdout",
     "output_type": "stream",
     "text": [
      "3 + 5 = 8\n"
     ]
    }
   ],
   "source": [
    "# Ejercicio 1: crear una función que sume dos números\n",
    "\n",
    "# definicion de variables de ejemplo\n",
    "number_1 = 3\n",
    "number_2 = 5\n",
    "\n",
    "# definición de la función\n",
    "def summatory(n1, n2):\n",
    "    return n1  + n2\n",
    "\n",
    "\n",
    "# llamada a la función\n",
    "sum_numbers = summatory(number_1, number_2)\n",
    "\n",
    "\n",
    "# resultado\n",
    "print('{} + {} = {}'.format(number_1, number_2, sum_numbers))"
   ]
  },
  {
   "cell_type": "code",
   "execution_count": 11,
   "metadata": {},
   "outputs": [
    {
     "name": "stdout",
     "output_type": "stream",
     "text": [
      "Los resultados de las operaciones son:\n",
      "15 + 5 = 20\n",
      "15 - 5 = 10\n",
      "15 * 5 = 75\n",
      "15 / 5 = 3.0\n",
      "invalid operation result: None\n"
     ]
    }
   ],
   "source": [
    "# Ejercicio 2: crear una función que haga operaciones matemáticas según el operador que se le mande.\n",
    "# La función recibe tres argumentos: n1, n2, operator (será un string de estos: '+' '-' '*' '/').\n",
    "# Según el operador que reciba, suma, resta, multiplica o divie. Si el operador no es ninguno, devuelve None (nada)\n",
    "# PISTA: se pueden usar if para comprobar si el operador es una cosa o la otra\n",
    "\n",
    "\n",
    "# definicion de variables de ejemplo\n",
    "number_1 = 15\n",
    "number_2 = 5\n",
    "\n",
    "\n",
    "# definición de la función\n",
    "def calculate(n1, n2, operator):\n",
    "    result = None\n",
    "    \n",
    "    if operator == '+':\n",
    "        result = n1 + n2\n",
    "    elif operator == '-':\n",
    "        result = n1 - n2\n",
    "    elif operator == '*':\n",
    "        result = n1 * n2\n",
    "    elif operator == '/':\n",
    "        result = n1 / n2\n",
    "    \n",
    "    return result\n",
    "\n",
    "\n",
    "# llamada a la función\n",
    "sum_numbers = calculate(n1=number_1, n2=number_2, operator='+')\n",
    "minus_numbers = calculate(n1=number_1, n2=number_2, operator='-')\n",
    "multiply_numbers = calculate(n1=number_1, n2=number_2, operator='*')\n",
    "divide_numbers = calculate(n1=number_1, n2=number_2, operator='/')\n",
    "invalid_operation = calculate(n1=number_1, n2=number_2, operator='invalid') \n",
    "\n",
    "\n",
    "# resultado\n",
    "print('Los resultados de las operaciones son:')\n",
    "print('{} + {} = {}'.format(number_1, number_2, sum_numbers))\n",
    "print('{} - {} = {}'.format(number_1, number_2, minus_numbers))\n",
    "print('{} * {} = {}'.format(number_1, number_2, multiply_numbers))\n",
    "print('{} / {} = {}'.format(number_1, number_2, divide_numbers))\n",
    "print('invalid operation result: {}'.format(invalid_operation))"
   ]
  },
  {
   "cell_type": "code",
   "execution_count": 1,
   "metadata": {},
   "outputs": [
    {
     "name": "stdout",
     "output_type": "stream",
     "text": [
      "La lista ['a', 'b', 'c'] al revés es: ['c']\n"
     ]
    }
   ],
   "source": [
    "# Ejercicio 3: Crear una función al que le pasemos una lista y devuelva otra con los elementos al revés:\n",
    "# Por ejemplo: entrada = ['a', 'b', 'c'] y la salida = ['c', 'b', 'a']\n",
    "# PISTA: Se puede recorrer una lista de inicio a fin o de fin a inicio\n",
    "# PISTA: Se puede crear otra lista y guardar uno a uno los elementos de la primera lista\n",
    "# PISTA: Para saber la longitud de una lista se usa la función len(<lista>)\n",
    "\n",
    "# definicion de variables de ejemplo\n",
    "target_list = ['a', 'b', 'c']\n",
    "\n",
    "# definición de la función\n",
    "def reverse_list(target_list):\n",
    "    result_list = []\n",
    "    length_target_list = len(target_list)\n",
    "    index_position = len(target_list) - 1\n",
    "\n",
    "    while index_position >= 0:\n",
    "        current_element = target_list[index_position]\n",
    "        result_list.append(current_element)\n",
    "        index_position -= 1\n",
    "        \n",
    "    return result_list\n",
    "\n",
    "\n",
    "\n",
    "# llamada a la función\n",
    "reversed_target_list = reverse_list(target_list)\n",
    "\n",
    "\n",
    "# resultado\n",
    "print('La lista {} al revés es: {}'.format(target_list, reversed_target_list))"
   ]
  },
  {
   "cell_type": "code",
   "execution_count": null,
   "metadata": {},
   "outputs": [],
   "source": []
  }
 ],
 "metadata": {
  "kernelspec": {
   "display_name": "Python 3",
   "language": "python",
   "name": "python3"
  },
  "language_info": {
   "codemirror_mode": {
    "name": "ipython",
    "version": 3
   },
   "file_extension": ".py",
   "mimetype": "text/x-python",
   "name": "python",
   "nbconvert_exporter": "python",
   "pygments_lexer": "ipython3",
   "version": "3.7.8"
  }
 },
 "nbformat": 4,
 "nbformat_minor": 4
}
