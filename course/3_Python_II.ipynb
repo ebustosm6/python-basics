{
 "cells": [
  {
   "cell_type": "markdown",
   "metadata": {},
   "source": [
    "# Python nivel I: estructuras de datos básicas y sus operaciones\n",
    "\n",
    "Ya se ha visto en el notebook (.ipynb) anterior los tipos básicos de datos en python (y por lo general, en casi todos los lenguajes).\n",
    "\n",
    "¿Qué pasa si tenemos más de un elemento? Aquí es donde entran las estructuras básicas (son tipos de datos igual).\n",
    "Casi todos los lenguajes tienen una solución para agrupar datos, en este caso, python tiene las siguientes estructuras o tipos de datos para varios elementos:\n",
    "- tuplas\n",
    "- sets\n",
    "- listas\n",
    "- diccionarios\n",
    "\n",
    "Todas ellas sirven para almacenar varios elementos (del mismo o diferente tipo) pero cada una tiene sus pecualiaridades.\n",
    "\n",
    "Para más info, se puede ver la [documentación oficical de Python](https://docs.python.org/3/tutorial/datastructures.html)"
   ]
  },
  {
   "cell_type": "markdown",
   "metadata": {},
   "source": [
    "## Tuplas\n",
    "Las tuplas son un conjunto de elementos inmutables, esto quiere decir que no se pueden modificar.\n",
    "\n",
    "La forma de escribirlas es entre paréntesis. Algunos ejemplos:\n",
    "\n",
    "```python\n",
    "numbers = (1, 2, 3, 4, 4)\n",
    "person = ('Eduardo', 27, False)\n",
    "names = ('Jhon', 'Peter')\n",
    "```\n",
    "\n",
    "También se puede utilizar \"tuple()\":\n",
    "\n",
    "```python\n",
    "primes = tuple(1, 3, 5, 7)\n",
    "```\n"
   ]
  },
  {
   "cell_type": "markdown",
   "metadata": {},
   "source": [
    "## Sets\n",
    "Los sets son un conjunto de elementos únicos (no se pueden repetir). La razón por la que no se pueden repetir los elementos es porque los sets (como los diccionarios) utilizan una tabla hash. A grandes rasgos, un hash es una función que mapea cualquier dato en una combinación de caracteres de un tamaño simple, pero siempre es la misma para los mismos datos.\n",
    "\n",
    "Ejemplo de hash en Python:\n",
    "```python\n",
    "hash('Eduardo')\n",
    "```\n",
    "\n",
    "devuelve el siguiente valor siempre: \"-2603401478105856028\".\n",
    "\n",
    "La forma de escribir los sets es entre llaves. Algunos ejemplos:\n",
    "\n",
    "```python\n",
    "numbers = {1, 2, 3, 4}\n",
    "person = {'Eduardo', 27, False}\n",
    "names = {'Jhon', 'Peter'}\n",
    "```\n",
    "\n",
    "También se puede utilizar \"set()\":\n",
    "\n",
    "```python\n",
    "primes = set(1, 3, 5, 7)\n",
    "```\n"
   ]
  },
  {
   "cell_type": "markdown",
   "metadata": {},
   "source": [
    "## Listas\n",
    "Las listas son un conjunto de elementos. Se pueden modificar y no hay problema por duplicar elementos.\n",
    "\n",
    "Por curiosidad, si imaginamos la memoria como hemos aprendido hasta ahora, hay que saber que las listas no caben en una sola cajita, por simplificar, diremos que lo que se hace es guardar un valor y la posición de memoria del siguiente, de esta forma se puede iterar (recorrer) la lista aunque cada valor esté en una cajita diferente porque \"están enlazados\".\n",
    "\n",
    "La forma de escribir las listas es entre corchetes. Algunos ejemplos:\n",
    "\n",
    "```python\n",
    "numbers = [0, 1, 1, 2, 3, 4]\n",
    "person = ['Eduardo', 27, False]\n",
    "names = ['Jhon', 'Peter']\n",
    "```\n",
    "\n",
    "También se puede utilizar \"list()\":\n",
    "\n",
    "```python\n",
    "primes = list(1, 3, 5, 7)\n",
    "```\n"
   ]
  },
  {
   "cell_type": "markdown",
   "metadata": {},
   "source": [
    "## Diccionarios\n",
    "Los diccionarios son un poco diferentes a las anteriores. Son conjuntos que tienen una \"clave\" y un \"valor\". Las claves tienen que ser únicas.\n",
    "\n",
    "También utilizan una tabla hash como los sets.\n",
    "\n",
    "Para entenderlo es mejor ver un ejemplo de un diccionario (puede tener tantas claves y subclaves se quiera, pero para cada clave hay un valor, que puede ser cualquier tipo de objeto).\n",
    "\n",
    "Se utilizan mucho para almacenar valores de una forma estructurada, o para representar objetos más complejos.\n",
    "\n",
    "Un ejemplo para representar una persona:\n",
    "\n",
    "```python\n",
    "person = {\n",
    "    'name': 'Eduardo',\n",
    "    'age': 27,\n",
    "    'married': False,\n",
    "    'hobbies': {\n",
    "        'basketball', \n",
    "        'programming'\n",
    "    },\n",
    "    'height': 1.8\n",
    "}\n",
    "```"
   ]
  },
  {
   "cell_type": "markdown",
   "metadata": {},
   "source": [
    "## Iteraciones sobre estructuras u objetos iterables:\n",
    "Este tipo de estructuras normalmente se utilizan para representar objetos más complejos o grupos de elementos."
   ]
  },
  {
   "cell_type": "code",
   "execution_count": 3,
   "metadata": {},
   "outputs": [
    {
     "data": {
      "text/plain": [
       "-2603401478105856028"
      ]
     },
     "execution_count": 3,
     "metadata": {},
     "output_type": "execute_result"
    }
   ],
   "source": [
    "hash('Eduardo')"
   ]
  },
  {
   "cell_type": "code",
   "execution_count": null,
   "metadata": {},
   "outputs": [],
   "source": []
  }
 ],
 "metadata": {
  "kernelspec": {
   "display_name": "Python 3",
   "language": "python",
   "name": "python3"
  },
  "language_info": {
   "codemirror_mode": {
    "name": "ipython",
    "version": 3
   },
   "file_extension": ".py",
   "mimetype": "text/x-python",
   "name": "python",
   "nbconvert_exporter": "python",
   "pygments_lexer": "ipython3",
   "version": "3.7.8"
  }
 },
 "nbformat": 4,
 "nbformat_minor": 4
}
