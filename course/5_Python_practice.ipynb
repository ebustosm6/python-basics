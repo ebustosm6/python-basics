{
 "cells": [
  {
   "cell_type": "markdown",
   "metadata": {},
   "source": [
    "# Un poco de práctica\n",
    "Hasta ahora hemos visto varias cosas interesantes:\n",
    "- cosas básicas de ordedanores\n",
    "- tipos básicos de datos y sus operaciones\n",
    "- estructuras básicas\n",
    "- bucles y cláusula if / else\n",
    "\n",
    "Los ejemplos hasta ahora han sido sencillos para entender los conceptos pero vamos a darle un poco más de dificultad y sentido.\n",
    "\n",
    "En este notebook se van a plantear algunos problemas y se van a dar unas pistas para solucionarlos.\n",
    "De momento no hemos visto las funciones, que es una de las formas habituales de ordenar el código, así que lo que haremos será un problema en cada celda del notebook.\n",
    "La estructura que vamos a seguir es en general la siguiente:\n",
    "1. Enunciado del problema\n",
    "2. Declaración de variables necesarias\n",
    "3. Resolución del ejercicio\n",
    "\n",
    "Se usa este orden porque, como ya sabemos, el código se ejecuta de arriba a abajo, así que si vamos a usar una variable, hay que definirla antes.\n",
    "\n",
    "Al final, como siempre estarán las soluciones :D\n",
    "\n",
    "Es muy recomendable ver la ejecución en [Python tutor](http://www.pythontutor.com/visualize.html#mode=edit) porque se ven muy bien las diferencias entre las opciones de las soluciones y para entender bien los bucles. Puedes programar los ejercicios allí también sin problema."
   ]
  },
  {
   "cell_type": "code",
   "execution_count": 2,
   "metadata": {},
   "outputs": [],
   "source": [
    "# Ejercicio 0: Queremos un programa que dada una lista de frutas, compruebe si una fruta dada está en la lista \n",
    "# PISTA: esto se puede escribir de la siguiente forma: if <value> in <list>, pero no es lo que buscamos aquí.\n",
    "# PISTA: podemos utilizar if / else dentro de un bucle\n",
    "# PISTA: ¿Haría falta seguir buscando en la lista si ya la he encontrado?\n",
    "\n",
    "fruits = ['orange', 'lemon', 'melon', 'watermelon', 'bananna']\n",
    "\n"
   ]
  },
  {
   "cell_type": "code",
   "execution_count": null,
   "metadata": {},
   "outputs": [],
   "source": [
    "# Ejercicio 1: Queremos un programa que dado el número de mes nos imprima el nombre del mes. \n",
    "# Por ejemplo 1 = Enero, 12 = Diciembre\n",
    "# PISTA: ¿Qué debería pasar si nos pasan 13 o 0?\n",
    "# PISTA: ¿En qué tipo de estructura se podrían guardar los nombres de los meses?\n",
    "\n",
    "\n"
   ]
  },
  {
   "cell_type": "code",
   "execution_count": null,
   "metadata": {},
   "outputs": [],
   "source": [
    "# Ejercicio 2: Queremos un programa que dadas dos listas de nombres, nos devuelva una lista con los elementos comunes a las dos listas\n",
    "# PISTA: para insertar elementos en una lista se usa <lista>.append(<valor>)\n",
    "# PISTA: se pueden utilizar bucles dentro de otros bucles\n",
    "\n",
    "names_1 = ['John', 'George', 'Maria', 'Julia', 'John']\n",
    "names_2 = ['Peter', 'James', 'John', 'Julia']\n",
    "result = []\n",
    "\n"
   ]
  },
  {
   "cell_type": "code",
   "execution_count": null,
   "metadata": {},
   "outputs": [],
   "source": [
    "# Ejercicio 3: Queremos un programa que nos diga si un año dado es bisiesto o no.\n",
    "# PISTA: Yo tampoco sé cómo se calcula eso, busca en google que para eso está (pero no buscar la solución en python)\n",
    "target_year = \n"
   ]
  },
  {
   "cell_type": "code",
   "execution_count": null,
   "metadata": {},
   "outputs": [],
   "source": [
    "# Ejercicio 4: Queremos un programa para gestionar personas. Las personas tienen 2 atributos, nombre y edad. \n",
    "# Hay que crear 5 personas (las que quieras) y guardarlas en una estructura.\n",
    "# Queremos conocer el número de personas que son menor de edad.\n",
    "# PISTA: ¿Cómo representar una persona y sus atributos?\n",
    "# PISTA: ¿Qué estructura se puede usar para guardar un grupo de elementos?\n",
    "\n"
   ]
  },
  {
   "cell_type": "markdown",
   "metadata": {},
   "source": [
    "## Soluciones"
   ]
  },
  {
   "cell_type": "code",
   "execution_count": 6,
   "metadata": {},
   "outputs": [
    {
     "name": "stdout",
     "output_type": "stream",
     "text": [
      "Fruit \"melon\" in fruits: True\n"
     ]
    }
   ],
   "source": [
    "# Ejercicio 0: Queremos un programa que dada una lista de frutas, compruebe si una fruta dada está en la lista\n",
    "fruits = ['orange', 'lemon', 'melon', 'watermelon', 'banana']\n",
    "target_fruit = 'melon'\n",
    "result = False\n",
    "\n",
    "# Opción 1: recorremos toda la lista\n",
    "for fruit in fruits:\n",
    "    if fruit == target_fruit:\n",
    "        result = True\n",
    "\n",
    "# Opción 2: recorremos la lista hasta que la encontramos\n",
    "fruit_index = 0\n",
    "fruits_length = len(fruits)\n",
    "current_fruit = None\n",
    "while current_fruit != target_fruit and fruit_index < fruits_length:\n",
    "    current_fruit = fruits[fruit_index]\n",
    "    fruit_index += 1\n",
    "\n",
    "result = current_fruit == target_fruit\n",
    "\n",
    "# Resultado\n",
    "print('Fruit \"{}\" in fruits: {}'.format(target_fruit, result))\n",
    "    \n",
    "        "
   ]
  },
  {
   "cell_type": "code",
   "execution_count": 11,
   "metadata": {},
   "outputs": [
    {
     "name": "stdout",
     "output_type": "stream",
     "text": [
      "El mes 3 es Marzo\n"
     ]
    }
   ],
   "source": [
    "# Ejercicio 1: Queremos un programa que dado el número de mes nos imprima el nombre del mes. \n",
    "\n",
    "month_number = 3\n",
    "result = None\n",
    "\n",
    "# Opción 1: Utilizando una tupla o lista y accediendo por índice (un set no se puede porque no es ordenado)\n",
    "months = [\n",
    "    'Enero', 'Febrero', 'Marzo', 'Abril', 'Mayo', 'Junio', 'Julio', \n",
    "    'Agosto', 'Septiembre', 'Octubre', 'Noviembre', 'Diciembre'\n",
    "]\n",
    "\n",
    "if 1 <= month_number <= 12:\n",
    "    result = months[month_number-1] # -1 porque en programaicón el 0 cuenta, Enero sería la posición 0, no 1\n",
    "else:\n",
    "    print('ERROR: Sólo números entre 1 y 12')\n",
    "\n",
    "    \n",
    "# Opción 2: Utilizando un diccionario con clave el número del mes y valor el nombre \n",
    "month_map = {\n",
    "    1: 'Enero', 2: 'Febrero', 3: 'Marzo', 4: 'Abril', 5: 'Mayo', 6: 'Junio', 7: 'Julio', \n",
    "    8: 'Agosto', 9: 'Septiembre', 10: 'Octubre', 11: 'Noviembre', 12: 'Diciembre'\n",
    "}\n",
    "if 1 <= month_number <= 12:\n",
    "    result = month_map[month_number]\n",
    "else:\n",
    "    print('ERROR: Sólo números entre 1 y 12')\n",
    "\n",
    "    \n",
    "\n",
    "# Resultado\n",
    "print('El mes {} es {}'.format(month_number, result))\n",
    "    "
   ]
  },
  {
   "cell_type": "code",
   "execution_count": 20,
   "metadata": {},
   "outputs": [
    {
     "name": "stdout",
     "output_type": "stream",
     "text": [
      "La lista resultado es ['John', 'Julia', 'John']\n",
      "La lista resultado es ['John', 'Julia', 'John']\n",
      "La lista resultado es {'John', 'Julia'}\n"
     ]
    }
   ],
   "source": [
    "# Ejercicio 2: Queremos un programa que dadas dos listas de nombres, nos devuelva una lista con los elementos comunes a las dos listas\n",
    "\n",
    "names_1 = ['John', 'George', 'Maria', 'Julia', 'John']\n",
    "names_2 = ['Peter', 'James', 'John', 'Julia']\n",
    "\n",
    "# Opción 1: Utilizando un for dentro de otro para recorrer cada lista\n",
    "result = []\n",
    "for name_list_1 in names_1:\n",
    "    for name_list_2 in names_2:\n",
    "        if name_list_1 == name_list_2:\n",
    "            result.append(name_list_1)\n",
    "            \n",
    "print('La lista resultado es {}'.format(result))\n",
    "\n",
    "# Opción 2: utilizando if <value> in <list>\n",
    "result = []\n",
    "for name_list_1 in names_1:\n",
    "    if name_list_1 in names_2:\n",
    "        result.append(name_list_1)\n",
    "\n",
    "print('La lista resultado es {}'.format(result))\n",
    "\n",
    "# Opción 3: Si queremos evitar duplicar nombres hay que usar un set para el resultado en lugar de una lista\n",
    "result = set()\n",
    "for name_list_1 in names_1:\n",
    "    if name_list_1 in names_2:\n",
    "        result.add(name_list_1)\n",
    "        \n",
    "print('La lista resultado es {}'.format(result))"
   ]
  },
  {
   "cell_type": "code",
   "execution_count": 25,
   "metadata": {},
   "outputs": [
    {
     "name": "stdout",
     "output_type": "stream",
     "text": [
      "El año 2020 es bisiesto: True\n"
     ]
    }
   ],
   "source": [
    "# Ejercicio 3: Queremos un programa que nos diga si un año dado es bisiesto o no.\n",
    "target_year = 2020\n",
    "is_leap_year = False\n",
    "\n",
    "if target_year % 4 == 0:\n",
    "    if target_year % 100 == 0:\n",
    "        if target_year % 400 == 0:\n",
    "            is_leap_year = True\n",
    "    else:\n",
    "        is_leap_year = True\n",
    "    \n",
    "# Resultado:\n",
    "print('El año {} es bisiesto: {}'.format(target_year, is_leap_year))"
   ]
  },
  {
   "cell_type": "code",
   "execution_count": 27,
   "metadata": {},
   "outputs": [
    {
     "name": "stdout",
     "output_type": "stream",
     "text": [
      "Hay 2 menores de edad\n",
      "Hay 2 menores de edad\n"
     ]
    }
   ],
   "source": [
    "# Ejercicio 4: Queremos un programa para gestionar personas. Las personas tienen 2 atributos, nombre y edad. \n",
    "\n",
    "# Opción 1: Utilizando un diccionario para cada persona\n",
    "num_youngs = 0\n",
    "people = [\n",
    "    {'name': 'Pepe', 'age': 12},\n",
    "    {'name': 'Maria', 'age': 23},\n",
    "    {'name': 'Anastasia', 'age': 8},\n",
    "    {'name': 'Jose', 'age': 52},\n",
    "    {'name': 'Edu', 'age': 45}\n",
    "]\n",
    "for person in people:\n",
    "    if person['age'] < 18:\n",
    "        num_youngs += 1\n",
    "\n",
    "print('Hay {} menores de edad'.format(num_youngs))\n",
    "\n",
    "\n",
    "# Opción 2: Utilizando un set para cada persona\n",
    "num_youngs = 0\n",
    "people = [\n",
    "    ('Pepe', 12),\n",
    "    ('Maria', 23),\n",
    "    ('Anastasia', 8),\n",
    "    ('Jose', 52),\n",
    "    ('Edu', 45)\n",
    "]\n",
    "for person in people:\n",
    "    if person[1] < 18:\n",
    "        num_youngs += 1\n",
    "\n",
    "print('Hay {} menores de edad'.format(num_youngs))\n",
    "\n",
    "# PISTA: ¿Cuál crees que es mejor opción?"
   ]
  },
  {
   "cell_type": "code",
   "execution_count": null,
   "metadata": {},
   "outputs": [],
   "source": []
  }
 ],
 "metadata": {
  "kernelspec": {
   "display_name": "Python 3",
   "language": "python",
   "name": "python3"
  },
  "language_info": {
   "codemirror_mode": {
    "name": "ipython",
    "version": 3
   },
   "file_extension": ".py",
   "mimetype": "text/x-python",
   "name": "python",
   "nbconvert_exporter": "python",
   "pygments_lexer": "ipython3",
   "version": "3.7.8"
  }
 },
 "nbformat": 4,
 "nbformat_minor": 4
}
